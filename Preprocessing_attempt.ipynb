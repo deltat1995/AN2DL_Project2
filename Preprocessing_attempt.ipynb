{
 "cells": [
  {
   "cell_type": "markdown",
   "metadata": {
    "colab_type": "text",
    "id": "view-in-github"
   },
   "source": [
    "<a href=\"https://colab.research.google.com/github/Stefano97/AN2DL_Project2/blob/master/Preprocessing_attempt.ipynb\" target=\"_parent\"><img src=\"https://colab.research.google.com/assets/colab-badge.svg\" alt=\"Open In Colab\"/></a>"
   ]
  },
  {
   "cell_type": "code",
   "execution_count": null,
   "metadata": {
    "colab": {},
    "colab_type": "code",
    "id": "gP2HYEBvqFf7"
   },
   "outputs": [],
   "source": [
    "%tensorflow_version 2.x\n",
    "import tensorflow as tf"
   ]
  },
  {
   "cell_type": "code",
   "execution_count": null,
   "metadata": {
    "colab": {
     "base_uri": "https://localhost:8080/",
     "height": 34
    },
    "colab_type": "code",
    "id": "cRufo-U3GlXl",
    "outputId": "e5ba39a9-9e01-4153-8458-36583cc09cbe"
   },
   "outputs": [],
   "source": [
    "from google.colab import drive\n",
    "drive.mount('/content/drive', force_remount=True)"
   ]
  },
  {
   "cell_type": "code",
   "execution_count": null,
   "metadata": {
    "colab": {},
    "colab_type": "code",
    "id": "vhGu4W9eG0f4"
   },
   "outputs": [],
   "source": [
    "rm \"/content/drive/My Drive/startDataset\" -R"
   ]
  },
  {
   "cell_type": "code",
   "execution_count": null,
   "metadata": {
    "colab": {},
    "colab_type": "code",
    "id": "1e1ApRc9qOKL"
   },
   "outputs": [],
   "source": [
    "!git clone https://github.com/Stefano97/AN2DL_Project2"
   ]
  },
  {
   "cell_type": "code",
   "execution_count": null,
   "metadata": {
    "colab": {},
    "colab_type": "code",
    "id": "gdRxArCOudUA"
   },
   "outputs": [],
   "source": [
    "! pip uninstall kaggle"
   ]
  },
  {
   "cell_type": "code",
   "execution_count": null,
   "metadata": {
    "colab": {},
    "colab_type": "code",
    "id": "UjucH9jduc4n"
   },
   "outputs": [],
   "source": [
    "!pip install kaggle"
   ]
  },
  {
   "cell_type": "code",
   "execution_count": null,
   "metadata": {
    "colab": {},
    "colab_type": "code",
    "id": "TppN63VfqUP8"
   },
   "outputs": [],
   "source": [
    "from google.colab import files\n",
    "\n",
    "files.upload()"
   ]
  },
  {
   "cell_type": "code",
   "execution_count": null,
   "metadata": {
    "colab": {},
    "colab_type": "code",
    "id": "mhq613EurlJI"
   },
   "outputs": [],
   "source": [
    "!mkdir ~/.kaggle\n",
    "!cp kaggle.json ~/.kaggle/\n",
    "!chmod 600 ~/.kaggle/kaggle.json"
   ]
  },
  {
   "cell_type": "code",
   "execution_count": null,
   "metadata": {
    "colab": {},
    "colab_type": "code",
    "id": "KiVx0JX6qSsP"
   },
   "outputs": [],
   "source": [
    "!kaggle competitions download -c ann-and-dl-image-segmentation"
   ]
  },
  {
   "cell_type": "code",
   "execution_count": null,
   "metadata": {
    "colab": {},
    "colab_type": "code",
    "id": "PQf4jxH-C4gD"
   },
   "outputs": [],
   "source": [
    "!unzip ./*.zip"
   ]
  },
  {
   "cell_type": "code",
   "execution_count": null,
   "metadata": {
    "colab": {},
    "colab_type": "code",
    "id": "Lfz4QC-iPk2S"
   },
   "outputs": [],
   "source": [
    "! rm \"/content/drive/My Drive/maschere\" -R\n"
   ]
  },
  {
   "cell_type": "code",
   "execution_count": null,
   "metadata": {
    "colab": {},
    "colab_type": "code",
    "id": "J2_iSRajIpxc"
   },
   "outputs": [],
   "source": [
    "! cp -R \"/content/ann-and-dl-image-segmentation.zip\" \"/content/drive/My Drive/\""
   ]
  },
  {
   "cell_type": "code",
   "execution_count": null,
   "metadata": {
    "colab": {},
    "colab_type": "code",
    "id": "SjXsPr17KPQq"
   },
   "outputs": [],
   "source": [
    "! ls \"drive/My Drive/Segmentation_Dataset/training/masks/img\""
   ]
  },
  {
   "cell_type": "code",
   "execution_count": null,
   "metadata": {
    "colab": {},
    "colab_type": "code",
    "id": "fOeQTOrJXrwZ"
   },
   "outputs": [],
   "source": [
    "from IPython.core.interactiveshell import InteractiveShell\n",
    "InteractiveShell.ast_node_interactivity = \"all\""
   ]
  },
  {
   "cell_type": "code",
   "execution_count": null,
   "metadata": {
    "colab": {
     "base_uri": "https://localhost:8080/",
     "height": 34
    },
    "colab_type": "code",
    "id": "SEZzWExHTVY8",
    "outputId": "793da993-c434-4ffb-a684-69c497de6dd2"
   },
   "outputs": [],
   "source": [
    "#%tensorflow_version 2.x\n",
    "import tensorflow as tf\n",
    "\n",
    "SEED = 1234\n",
    "tf.random.set_seed(SEED) "
   ]
  },
  {
   "cell_type": "code",
   "execution_count": null,
   "metadata": {
    "colab": {},
    "colab_type": "code",
    "id": "T6pYRQ-6TVba"
   },
   "outputs": [],
   "source": [
    "from tensorflow.keras.preprocessing.image import ImageDataGenerator\n",
    "train_img_data_gen = ImageDataGenerator(rescale=1./255,validation_split=0.3)\n",
    "train_mask_data_gen = ImageDataGenerator(rescale=1./255,validation_split=0.3)"
   ]
  },
  {
   "cell_type": "code",
   "execution_count": null,
   "metadata": {
    "colab": {
     "base_uri": "https://localhost:8080/",
     "height": 102
    },
    "colab_type": "code",
    "id": "tB4AxkLfTVe4",
    "outputId": "b6da9944-4338-46cb-8b1d-c8f8d4bad8c7"
   },
   "outputs": [],
   "source": [
    "import os\n",
    "\n",
    "cwd = os.getcwd()\n",
    "dataset_dir = os.path.join(cwd, 'Segmentation_Dataset')\n",
    "\n",
    "# Batch size\n",
    "bs = 4\n",
    "\n",
    "# img shape\n",
    "img_h = 256\n",
    "img_w = 256\n",
    "\n",
    "num_classes=21\n",
    "\n",
    "# Training\n",
    "# Two different generators for images and masks\n",
    "# ATTENTION: here the seed is important!! We have to give the same SEED to both the generator\n",
    "# to apply the same transformations/shuffling to images and corresponding masks\n",
    "training_dir = os.path.join(dataset_dir, 'training')\n",
    "train_img_gen = train_img_data_gen.flow_from_directory(os.path.join(training_dir, 'images'),\n",
    "                                                       target_size=(img_h, img_w),\n",
    "                                                       batch_size=bs, \n",
    "                                                       class_mode=None, # Because we have no class subfolders in this case\n",
    "                                                       shuffle=True,\n",
    "                                                       interpolation='bilinear',\n",
    "                                                       seed=SEED,\n",
    "                                                       subset=\"training\")  \n",
    "train_mask_gen = train_mask_data_gen.flow_from_directory(os.path.join(training_dir, 'masks'),\n",
    "                                                         target_size=(img_h, img_w),\n",
    "                                                         batch_size=bs,\n",
    "                                                         class_mode=None, # Because we have no class subfolders in this case\n",
    "                                                         shuffle=True,\n",
    "                                                         interpolation='bilinear',\n",
    "                                                         color_mode=\"grayscale\",\n",
    "                                                         seed=SEED,\n",
    "                                                         subset=\"training\")\n",
    "valid_img_gen = train_img_data_gen.flow_from_directory(os.path.join(training_dir, 'images'),\n",
    "                                                       target_size=(img_h, img_w),\n",
    "                                                       batch_size=bs, \n",
    "                                                       class_mode=None, # Because we have no class subfolders in this case\n",
    "                                                       shuffle=True,\n",
    "                                                       interpolation='bilinear',\n",
    "                                                       seed=SEED,\n",
    "                                                       subset=\"validation\")  \n",
    "valid_mask_gen = train_mask_data_gen.flow_from_directory(os.path.join(training_dir, 'masks'),\n",
    "                                                         target_size=(img_h, img_w),\n",
    "                                                         batch_size=bs,\n",
    "                                                         class_mode=None, # Because we have no class subfolders in this case\n",
    "                                                         shuffle=True,\n",
    "                                                         interpolation='bilinear',\n",
    "                                                         color_mode=\"grayscale\",\n",
    "                                                         seed=SEED,\n",
    "                                                         subset=\"validation\")\n",
    "\n",
    "train_gen = zip(train_img_gen, train_mask_gen)\n",
    "valid_gen = zip(valid_img_gen, valid_mask_gen)\n",
    "\n",
    "def prepare_target(x_, y_):\n",
    "    y_ = tf.cast(y_, tf.int32)\n",
    "    return x_, y_\n",
    "\n",
    "train_gen = train_gen.map(prepare_target)\n",
    "valid_gen = valid_gen.map(prepare_target)"
   ]
  },
  {
   "cell_type": "code",
   "execution_count": null,
   "metadata": {
    "colab": {
     "base_uri": "https://localhost:8080/",
     "height": 71
    },
    "colab_type": "code",
    "id": "Tm-OGnHiTVhx",
    "outputId": "b0b8925a-dcab-40ae-bea4-00de6f573c33"
   },
   "outputs": [],
   "source": [
    "import time\n",
    "import matplotlib.pyplot as plt\n",
    "import numpy as np\n",
    "\n",
    "%matplotlib notebook\n",
    "\n",
    "\n",
    "fig,ax = plt.subplots(1,2)\n",
    "fig.show()\n",
    "\n",
    "iterator = iter(train_gen)\n",
    "\n",
    "for _ in range(1000):\n",
    "    img, target = next(iterator)\n",
    "    img = img[0]   # First element\n",
    "    img = img * 255  # denormalize\n",
    "    target = target[0]\n",
    "    \n",
    "    target = target.squeeze(-1)\n",
    "    \n",
    "    \n",
    "    # Assign colors (just for visualization)\n",
    "    target_img = np.zeros([256, 256, 3])\n",
    "\n",
    "    target_img[np.where(target == 0.0)] = [0, 0, 0]\n",
    "    target_img[np.where(target == 1.0)] = [255, 255, 255]\n",
    "\n",
    "\n",
    "    ax[0].imshow(np.uint8(img))\n",
    "    ax[1].imshow(np.uint8(target_img))\n",
    "\n",
    "\n",
    "    fig.canvas.draw()\n",
    "    time.sleep(1)"
   ]
  },
  {
   "cell_type": "code",
   "execution_count": null,
   "metadata": {
    "colab": {},
    "colab_type": "code",
    "id": "bOb29xVpTVkI"
   },
   "outputs": [],
   "source": [
    "import json\n",
    "import re\n",
    "\n",
    "training = []\n",
    "for imgName in train_img_gen.filenames:\n",
    "    matchObj = re.search(r'[^\\\\\\\\/]+$',imgName,re.M)    \n",
    "    file_name = matchObj.group()\n",
    "    training.append(file_name)\n",
    "    \n",
    "validation = []\n",
    "for imgName in valid_img_gen.filenames:\n",
    "    matchObj = re.search(r'[^\\\\\\\\/]+$',imgName,re.M)    \n",
    "    file_name = matchObj.group()\n",
    "    validation.append(file_name)\n",
    "\n",
    "# dictionary with the format shown in the Evaluation tab\n",
    "dataset_split = {'training': training , 'validation': validation}   \n",
    "with open('dataset_split.json', 'w') as fp:\n",
    "    json.dump(dataset_split, fp)\n",
    "\n",
    "\n"
   ]
  },
  {
   "cell_type": "code",
   "execution_count": null,
   "metadata": {
    "colab": {},
    "colab_type": "code",
    "id": "4EgjrYuhTVnF"
   },
   "outputs": [],
   "source": []
  },
  {
   "cell_type": "code",
   "execution_count": null,
   "metadata": {
    "colab": {},
    "colab_type": "code",
    "id": "2hxOMiq-TVp4"
   },
   "outputs": [],
   "source": []
  },
  {
   "cell_type": "code",
   "execution_count": null,
   "metadata": {
    "colab": {},
    "colab_type": "code",
    "id": "r67Er28fTVsT"
   },
   "outputs": [],
   "source": []
  }
 ],
 "metadata": {
  "accelerator": "GPU",
  "colab": {
   "include_colab_link": true,
   "name": "Preprocessing attempt.ipynb",
   "provenance": []
  },
  "kernelspec": {
   "display_name": "Python 3",
   "language": "python",
   "name": "python3"
  },
  "language_info": {
   "codemirror_mode": {
    "name": "ipython",
    "version": 3
   },
   "file_extension": ".py",
   "mimetype": "text/x-python",
   "name": "python",
   "nbconvert_exporter": "python",
   "pygments_lexer": "ipython3",
   "version": "3.7.3"
  }
 },
 "nbformat": 4,
 "nbformat_minor": 1
}
