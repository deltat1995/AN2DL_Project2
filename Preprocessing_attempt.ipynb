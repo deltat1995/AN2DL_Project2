{
  "nbformat": 4,
  "nbformat_minor": 0,
  "metadata": {
    "colab": {
      "name": "Preprocessing attempt.ipynb",
      "provenance": [],
      "include_colab_link": true
    },
    "kernelspec": {
      "name": "python3",
      "display_name": "Python 3"
    },
    "accelerator": "GPU"
  },
  "cells": [
    {
      "cell_type": "markdown",
      "metadata": {
        "id": "view-in-github",
        "colab_type": "text"
      },
      "source": [
        "<a href=\"https://colab.research.google.com/github/Stefano97/AN2DL_Project2/blob/master/Preprocessing_attempt.ipynb\" target=\"_parent\"><img src=\"https://colab.research.google.com/assets/colab-badge.svg\" alt=\"Open In Colab\"/></a>"
      ]
    },
    {
      "cell_type": "code",
      "metadata": {
        "id": "gP2HYEBvqFf7",
        "colab_type": "code",
        "colab": {}
      },
      "source": [
        "%tensorflow_version 2.x\n",
        "import tensorflow as tf"
      ],
      "execution_count": 0,
      "outputs": []
    },
    {
      "cell_type": "code",
      "metadata": {
        "id": "cRufo-U3GlXl",
        "colab_type": "code",
        "outputId": "e5ba39a9-9e01-4153-8458-36583cc09cbe",
        "colab": {
          "base_uri": "https://localhost:8080/",
          "height": 34
        }
      },
      "source": [
        "from google.colab import drive\n",
        "drive.mount('/content/drive', force_remount=True)"
      ],
      "execution_count": 46,
      "outputs": [
        {
          "output_type": "stream",
          "text": [
            "Mounted at /content/drive\n"
          ],
          "name": "stdout"
        }
      ]
    },
    {
      "cell_type": "code",
      "metadata": {
        "id": "vhGu4W9eG0f4",
        "colab_type": "code",
        "colab": {}
      },
      "source": [
        "rm \"/content/drive/My Drive/startDataset\" -R"
      ],
      "execution_count": 0,
      "outputs": []
    },
    {
      "cell_type": "code",
      "metadata": {
        "id": "1e1ApRc9qOKL",
        "colab_type": "code",
        "colab": {}
      },
      "source": [
        "!git clone https://github.com/Stefano97/AN2DL_Project2"
      ],
      "execution_count": 0,
      "outputs": []
    },
    {
      "cell_type": "code",
      "metadata": {
        "id": "gdRxArCOudUA",
        "colab_type": "code",
        "colab": {}
      },
      "source": [
        "! pip uninstall kaggle"
      ],
      "execution_count": 0,
      "outputs": []
    },
    {
      "cell_type": "code",
      "metadata": {
        "id": "UjucH9jduc4n",
        "colab_type": "code",
        "colab": {}
      },
      "source": [
        "!pip install kaggle"
      ],
      "execution_count": 0,
      "outputs": []
    },
    {
      "cell_type": "code",
      "metadata": {
        "id": "TppN63VfqUP8",
        "colab_type": "code",
        "colab": {}
      },
      "source": [
        "from google.colab import files\n",
        "\n",
        "files.upload()"
      ],
      "execution_count": 0,
      "outputs": []
    },
    {
      "cell_type": "code",
      "metadata": {
        "id": "mhq613EurlJI",
        "colab_type": "code",
        "colab": {}
      },
      "source": [
        "!mkdir ~/.kaggle\n",
        "!cp kaggle.json ~/.kaggle/\n",
        "!chmod 600 ~/.kaggle/kaggle.json"
      ],
      "execution_count": 0,
      "outputs": []
    },
    {
      "cell_type": "code",
      "metadata": {
        "id": "KiVx0JX6qSsP",
        "colab_type": "code",
        "colab": {}
      },
      "source": [
        "!kaggle competitions download -c ann-and-dl-image-segmentation"
      ],
      "execution_count": 0,
      "outputs": []
    },
    {
      "cell_type": "code",
      "metadata": {
        "id": "PQf4jxH-C4gD",
        "colab_type": "code",
        "colab": {}
      },
      "source": [
        "!unzip ./*.zip"
      ],
      "execution_count": 0,
      "outputs": []
    },
    {
      "cell_type": "code",
      "metadata": {
        "id": "Lfz4QC-iPk2S",
        "colab_type": "code",
        "colab": {}
      },
      "source": [
        "! rm \"/content/drive/My Drive/maschere\" -R\n"
      ],
      "execution_count": 0,
      "outputs": []
    },
    {
      "cell_type": "code",
      "metadata": {
        "id": "J2_iSRajIpxc",
        "colab_type": "code",
        "colab": {}
      },
      "source": [
        "! cp -R \"/content/ann-and-dl-image-segmentation.zip\" \"/content/drive/My Drive/\""
      ],
      "execution_count": 0,
      "outputs": []
    },
    {
      "cell_type": "code",
      "metadata": {
        "id": "SjXsPr17KPQq",
        "colab_type": "code",
        "colab": {}
      },
      "source": [
        "! ls \"drive/My Drive/Segmentation_Dataset/training/masks/img\""
      ],
      "execution_count": 0,
      "outputs": []
    },
    {
      "cell_type": "code",
      "metadata": {
        "id": "fOeQTOrJXrwZ",
        "colab_type": "code",
        "colab": {}
      },
      "source": [
        "from IPython.core.interactiveshell import InteractiveShell\n",
        "InteractiveShell.ast_node_interactivity = \"all\""
      ],
      "execution_count": 0,
      "outputs": []
    },
    {
      "cell_type": "code",
      "metadata": {
        "id": "SEZzWExHTVY8",
        "colab_type": "code",
        "colab": {
          "base_uri": "https://localhost:8080/",
          "height": 34
        },
        "outputId": "793da993-c434-4ffb-a684-69c497de6dd2"
      },
      "source": [
        "%tensorflow_version 2.x\n",
        "import tensorflow as tf\n",
        "\n",
        "SEED = 1234\n",
        "tf.random.set_seed(SEED) "
      ],
      "execution_count": 47,
      "outputs": [
        {
          "output_type": "stream",
          "text": [
            "TensorFlow 2.x selected.\n"
          ],
          "name": "stdout"
        }
      ]
    },
    {
      "cell_type": "code",
      "metadata": {
        "id": "T6pYRQ-6TVba",
        "colab_type": "code",
        "colab": {}
      },
      "source": [
        "from tensorflow.keras.preprocessing.image import ImageDataGenerator\n",
        "train_img_data_gen = ImageDataGenerator(rescale=1./255,validation_split=0.3)\n",
        "train_mask_data_gen = ImageDataGenerator(validation_split=0.3)"
      ],
      "execution_count": 0,
      "outputs": []
    },
    {
      "cell_type": "code",
      "metadata": {
        "id": "tB4AxkLfTVe4",
        "colab_type": "code",
        "colab": {
          "base_uri": "https://localhost:8080/",
          "height": 102
        },
        "outputId": "b6da9944-4338-46cb-8b1d-c8f8d4bad8c7"
      },
      "source": [
        "import os\n",
        "\n",
        "cwd = os.getcwd()\n",
        "dataset_dir = os.path.join(cwd, 'Segmentation_Dataset')\n",
        "\n",
        "# Batch size\n",
        "bs = 4\n",
        "\n",
        "# img shape\n",
        "img_h = 256\n",
        "img_w = 256\n",
        "\n",
        "num_classes=21\n",
        "\n",
        "# Training\n",
        "# Two different generators for images and masks\n",
        "# ATTENTION: here the seed is important!! We have to give the same SEED to both the generator\n",
        "# to apply the same transformations/shuffling to images and corresponding masks\n",
        "training_dir = os.path.join(dataset_dir, 'training')\n",
        "train_img_gen = train_img_data_gen.flow_from_directory(os.path.join(training_dir, 'images'),\n",
        "                                                       target_size=(img_h, img_w),\n",
        "                                                       batch_size=bs, \n",
        "                                                       class_mode=None, # Because we have no class subfolders in this case\n",
        "                                                       shuffle=True,\n",
        "                                                       interpolation='bilinear',\n",
        "                                                       seed=SEED,\n",
        "                                                       subset=\"training\")  \n",
        "train_mask_gen = train_mask_data_gen.flow_from_directory(os.path.join(training_dir, 'masks'),\n",
        "                                                         target_size=(img_h, img_w),\n",
        "                                                         batch_size=bs,\n",
        "                                                         class_mode=None, # Because we have no class subfolders in this case\n",
        "                                                         shuffle=True,\n",
        "                                                         interpolation='bilinear',\n",
        "                                                         color_mode=\"grayscale\",\n",
        "                                                         seed=SEED,\n",
        "                                                         subset=\"training\")\n",
        "valid_img_gen = train_img_data_gen.flow_from_directory(os.path.join(training_dir, 'images'),\n",
        "                                                       target_size=(img_h, img_w),\n",
        "                                                       batch_size=bs, \n",
        "                                                       class_mode=None, # Because we have no class subfolders in this case\n",
        "                                                       shuffle=True,\n",
        "                                                       interpolation='bilinear',\n",
        "                                                       seed=SEED,\n",
        "                                                       subset=\"validation\")  \n",
        "valid_mask_gen = train_mask_data_gen.flow_from_directory(os.path.join(training_dir, 'masks'),\n",
        "                                                         target_size=(img_h, img_w),\n",
        "                                                         batch_size=bs,\n",
        "                                                         class_mode=None, # Because we have no class subfolders in this case\n",
        "                                                         shuffle=True,\n",
        "                                                         interpolation='bilinear',\n",
        "                                                         color_mode=\"grayscale\",\n",
        "                                                         seed=SEED,\n",
        "                                                         subset=\"validation\")\n",
        "\n",
        "train_gen = zip(train_img_gen, train_mask_gen)\n",
        "valid_gen = zip(valid_img_gen, valid_mask_gen)\n",
        "os.path.join(training_dir, 'images/img')"
      ],
      "execution_count": 55,
      "outputs": [
        {
          "output_type": "stream",
          "text": [
            "Found 5353 images belonging to 1 classes.\n",
            "Found 5353 images belonging to 1 classes.\n",
            "Found 2294 images belonging to 1 classes.\n",
            "Found 2294 images belonging to 1 classes.\n"
          ],
          "name": "stdout"
        },
        {
          "output_type": "execute_result",
          "data": {
            "text/plain": [
              "'/content/Segmentation_Dataset/training/images/img'"
            ]
          },
          "metadata": {
            "tags": []
          },
          "execution_count": 55
        }
      ]
    },
    {
      "cell_type": "code",
      "metadata": {
        "id": "Tm-OGnHiTVhx",
        "colab_type": "code",
        "colab": {
          "base_uri": "https://localhost:8080/",
          "height": 71
        },
        "outputId": "b0b8925a-dcab-40ae-bea4-00de6f573c33"
      },
      "source": [
        "import time\n",
        "import matplotlib.pyplot as plt\n",
        "import numpy as np\n",
        "\n",
        "%matplotlib notebook\n",
        "matplotlib.use('agg')\n",
        "\n",
        "\n",
        "fig = plt.figure()\n",
        "ax = fig.gca()\n",
        "fig.show()\n",
        "\n",
        "iterator = iter(train_gen)\n",
        "\n",
        "for _ in range(1000):\n",
        "    img, target = next(iterator)\n",
        "    img = img[0]   # First element\n",
        "    img = img * 255  # denormalize\n",
        "    \n",
        "    target = np.array(target[0, ..., 0])\n",
        "    # Assign colors (just for visualization)\n",
        "    target_img = np.zeros([256, 256, 3])\n",
        "    \n",
        "    target_img[np.where(target == 0.0)] = [0, 0, 0]\n",
        "    target_img[np.where(target == 255.0)] = [255, 255, 255]\n",
        "\n",
        "    plt.imshow(np.uint8(img))\n",
        "    fig.canvas.draw()\n",
        "    time.sleep(1)\n",
        "\n",
        "    plt.imshow(np.uint8(target_img))\n",
        "    fig.canvas.draw()\n",
        "    time.sleep(1)\n",
        "    break\n",
        "'''\n",
        "for _ in range(1000):\n",
        "    img, target = next(iterator)\n",
        "    img = img[0]   # First element\n",
        "    img = img * 255  # denormalize\n",
        "    target = target[0]\n",
        "\n",
        "    target = np.array(target[0, ..., 0])\n",
        "    # Assign colors (just for visualization)\n",
        "    target_img = np.zeros([256, 256, 3])\n",
        "    \n",
        "    target_img[np.where(target == 0.0)] = [0, 0, 0]\n",
        "    target_img[np.where(target == 255.0)] = [255, 255, 255]\n",
        "    \n",
        "    \n",
        "    ax[0].imshow(np.uint8(img))\n",
        "    ax[1].imshow(np.uint8(target_img))\n",
        "    \n",
        "\n",
        "    fig.canvas.draw()\n",
        "    break\n",
        "'''"
      ],
      "execution_count": 83,
      "outputs": [
        {
          "output_type": "execute_result",
          "data": {
            "text/plain": [
              "<matplotlib.image.AxesImage at 0x7f9a8c1d4d30>"
            ]
          },
          "metadata": {
            "tags": []
          },
          "execution_count": 83
        },
        {
          "output_type": "execute_result",
          "data": {
            "text/plain": [
              "<matplotlib.image.AxesImage at 0x7f9a8a59bb00>"
            ]
          },
          "metadata": {
            "tags": []
          },
          "execution_count": 83
        },
        {
          "output_type": "execute_result",
          "data": {
            "text/plain": [
              "'\\nfor _ in range(1000):\\n    img, target = next(iterator)\\n    img = img[0]   # First element\\n    img = img * 255  # denormalize\\n    target = target[0]\\n\\n    target = np.array(target[0, ..., 0])\\n    # Assign colors (just for visualization)\\n    target_img = np.zeros([256, 256, 3])\\n    \\n    target_img[np.where(target == 0.0)] = [0, 0, 0]\\n    target_img[np.where(target == 255.0)] = [255, 255, 255]\\n    \\n    \\n    ax[0].imshow(np.uint8(img))\\n    ax[1].imshow(np.uint8(target_img))\\n    \\n\\n    fig.canvas.draw()\\n    break\\n'"
            ]
          },
          "metadata": {
            "tags": []
          },
          "execution_count": 83
        }
      ]
    },
    {
      "cell_type": "code",
      "metadata": {
        "id": "bOb29xVpTVkI",
        "colab_type": "code",
        "colab": {}
      },
      "source": [
        ""
      ],
      "execution_count": 0,
      "outputs": []
    },
    {
      "cell_type": "code",
      "metadata": {
        "id": "4EgjrYuhTVnF",
        "colab_type": "code",
        "colab": {}
      },
      "source": [
        ""
      ],
      "execution_count": 0,
      "outputs": []
    },
    {
      "cell_type": "code",
      "metadata": {
        "id": "2hxOMiq-TVp4",
        "colab_type": "code",
        "colab": {}
      },
      "source": [
        ""
      ],
      "execution_count": 0,
      "outputs": []
    },
    {
      "cell_type": "code",
      "metadata": {
        "id": "r67Er28fTVsT",
        "colab_type": "code",
        "colab": {}
      },
      "source": [
        ""
      ],
      "execution_count": 0,
      "outputs": []
    }
  ]
}