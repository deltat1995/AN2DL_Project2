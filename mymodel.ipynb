{
  "nbformat": 4,
  "nbformat_minor": 0,
  "metadata": {
    "colab": {
      "name": "Copy of Preprocessing attempt.ipynb",
      "provenance": [],
      "private_outputs": true,
      "collapsed_sections": [],
      "toc_visible": true,
      "include_colab_link": true
    },
    "kernelspec": {
      "name": "python3",
      "display_name": "Python 3"
    },
    "accelerator": "GPU"
  },
  "cells": [
    {
      "cell_type": "markdown",
      "metadata": {
        "id": "view-in-github",
        "colab_type": "text"
      },
      "source": [
        "<a href=\"https://colab.research.google.com/github/Stefano97/AN2DL_Project2/blob/master/mymodel.ipynb\" target=\"_parent\"><img src=\"https://colab.research.google.com/assets/colab-badge.svg\" alt=\"Open In Colab\"/></a>"
      ]
    },
    {
      "cell_type": "code",
      "metadata": {
        "id": "SEZzWExHTVY8",
        "colab_type": "code",
        "colab": {}
      },
      "source": [
        "%tensorflow_version 2.x\n",
        "import tensorflow as tf\n",
        "\n",
        "SEED = 1234\n",
        "tf.random.set_seed(SEED) "
      ],
      "execution_count": 0,
      "outputs": []
    },
    {
      "cell_type": "code",
      "metadata": {
        "id": "1e1ApRc9qOKL",
        "colab_type": "code",
        "colab": {}
      },
      "source": [
        "!git clone https://github.com/Stefano97/AN2DL_Project2"
      ],
      "execution_count": 0,
      "outputs": []
    },
    {
      "cell_type": "code",
      "metadata": {
        "id": "cRufo-U3GlXl",
        "colab_type": "code",
        "colab": {}
      },
      "source": [
        "from google.colab import drive\n",
        "drive.mount('/content/drive')"
      ],
      "execution_count": 0,
      "outputs": []
    },
    {
      "cell_type": "code",
      "metadata": {
        "id": "J2_iSRajIpxc",
        "colab_type": "code",
        "colab": {}
      },
      "source": [
        "! cp -R \"/content/drive/My Drive/ann-and-dl-image-segmentation.zip\" \"/content/\" "
      ],
      "execution_count": 0,
      "outputs": []
    },
    {
      "cell_type": "code",
      "metadata": {
        "id": "PQf4jxH-C4gD",
        "colab_type": "code",
        "colab": {}
      },
      "source": [
        "!unzip ./*.zip"
      ],
      "execution_count": 0,
      "outputs": []
    },
    {
      "cell_type": "code",
      "metadata": {
        "id": "fOeQTOrJXrwZ",
        "colab_type": "code",
        "colab": {}
      },
      "source": [
        "from IPython.core.interactiveshell import InteractiveShell\n",
        "InteractiveShell.ast_node_interactivity = \"all\""
      ],
      "execution_count": 0,
      "outputs": []
    },
    {
      "cell_type": "code",
      "metadata": {
        "id": "T6pYRQ-6TVba",
        "colab_type": "code",
        "colab": {}
      },
      "source": [
        "from tensorflow.keras.preprocessing.image import ImageDataGenerator\n",
        "train_img_data_gen = ImageDataGenerator(rescale=1./255,validation_split=0.3)\n",
        "train_mask_data_gen = ImageDataGenerator(rescale = 1./255, validation_split=0.3)\n",
        "\n",
        "# transform dataset "
      ],
      "execution_count": 0,
      "outputs": []
    },
    {
      "cell_type": "code",
      "metadata": {
        "id": "tB4AxkLfTVe4",
        "colab_type": "code",
        "colab": {}
      },
      "source": [
        "import os\n",
        "\n",
        "cwd = os.getcwd()\n",
        "dataset_dir = os.path.join(cwd, 'Segmentation_Dataset')\n",
        "\n",
        "# Batch size\n",
        "bs = 4\n",
        "\n",
        "# img shape\n",
        "img_h = 256\n",
        "img_w = 256\n",
        "\n",
        "#num_classes=21\n",
        "\n",
        "# Training\n",
        "# Two different generators for images and masks\n",
        "# ATTENTION: here the seed is important!! We have to give the same SEED to both the generator\n",
        "# to apply the same transformations/shuffling to images and corresponding masks\n",
        "training_dir = os.path.join(dataset_dir, 'training')\n",
        "train_img_gen = train_img_data_gen.flow_from_directory(os.path.join(training_dir, 'images'),\n",
        "                                                       target_size=(img_h, img_w),\n",
        "                                                       batch_size=bs, \n",
        "                                                       class_mode=None, # Because we have no class subfolders in this case\n",
        "                                                       shuffle=True,\n",
        "                                                       interpolation='bilinear',\n",
        "                                                       seed=SEED,\n",
        "                                                       subset=\"training\")  \n",
        "train_mask_gen = train_mask_data_gen.flow_from_directory(os.path.join(training_dir, 'masks'),\n",
        "                                                         target_size=(img_h, img_w),\n",
        "                                                         batch_size=bs,\n",
        "                                                         class_mode=None, # Because we have no class subfolders in this case\n",
        "                                                         shuffle=True,\n",
        "                                                         interpolation='bilinear',\n",
        "                                                         color_mode=\"grayscale\",\n",
        "                                                         seed=SEED,\n",
        "                                                         subset=\"training\")\n",
        "valid_img_gen = train_img_data_gen.flow_from_directory(os.path.join(training_dir, 'images'),\n",
        "                                                       target_size=(img_h, img_w),\n",
        "                                                       batch_size=bs, \n",
        "                                                       class_mode=None, # Because we have no class subfolders in this case\n",
        "                                                       shuffle=True,\n",
        "                                                       interpolation='bilinear',\n",
        "                                                       seed=SEED,\n",
        "                                                       subset=\"validation\")  \n",
        "valid_mask_gen = train_mask_data_gen.flow_from_directory(os.path.join(training_dir, 'masks'),\n",
        "                                                         target_size=(img_h, img_w),\n",
        "                                                         batch_size=bs,\n",
        "                                                         class_mode=None, # Because we have no class subfolders in this case\n",
        "                                                         shuffle=True,\n",
        "                                                         interpolation='bilinear',\n",
        "                                                         color_mode=\"grayscale\",\n",
        "                                                         seed=SEED,\n",
        "                                                         subset=\"validation\")\n",
        "\n",
        "train_gen = zip(train_img_gen, train_mask_gen)\n",
        "valid_gen = zip(valid_img_gen, valid_mask_gen)"
      ],
      "execution_count": 0,
      "outputs": []
    },
    {
      "cell_type": "code",
      "metadata": {
        "id": "CI42-SDjwcCt",
        "colab_type": "code",
        "colab": {}
      },
      "source": [
        "# Training\n",
        "# --------\n",
        "train_dataset = tf.data.Dataset.from_generator(lambda: train_gen,\n",
        "                                               output_types=(tf.float32, tf.float32),\n",
        "                                               output_shapes=([None, img_h, img_w, 3], [None, img_h, img_w, 1]))\n",
        "\n",
        "def prepare_target(x_, y_):\n",
        "    y_ = tf.cast(y_, tf.int32)\n",
        "    return x_, y_\n",
        "\n",
        "train_dataset = train_dataset.map(prepare_target)\n",
        "\n",
        "# Repeat\n",
        "train_dataset = train_dataset.repeat()\n",
        "\n",
        "# Validation\n",
        "# ----------\n",
        "valid_dataset = tf.data.Dataset.from_generator(lambda: valid_gen, \n",
        "                                               output_types=(tf.float32, tf.float32),\n",
        "                                               output_shapes=([None, img_h, img_w, 3], [None, img_h, img_w, 1]))\n",
        "valid_dataset = valid_dataset.map(prepare_target)\n",
        "\n",
        "# Repeat\n",
        "valid_dataset = valid_dataset.repeat()\n"
      ],
      "execution_count": 0,
      "outputs": []
    },
    {
      "cell_type": "code",
      "metadata": {
        "id": "Tm-OGnHiTVhx",
        "colab_type": "code",
        "colab": {}
      },
      "source": [
        "import time\n",
        "import matplotlib.pyplot as plt\n",
        "import numpy as np\n",
        "# need to import matplotlib \n",
        "\n",
        "%matplotlib notebook\n",
        "matplotlib.use('agg')\n",
        "\n",
        "\n",
        "fig = plt.figure()\n",
        "ax = fig.gca()\n",
        "fig.show()\n",
        "\n",
        "iterator = iter(train_gen)\n",
        "\n",
        "for _ in range(1000):\n",
        "    img, target = next(iterator)\n",
        "    img = img[0]   # First element\n",
        "    img = img * 255  # denormalize\n",
        "    \n",
        "    target = np.array(target[0, ..., 0])\n",
        "    # Assign colors (just for visualization)\n",
        "    target_img = np.zeros([256, 256, 3])\n",
        "    \n",
        "    target_img[np.where(target == 0.0)] = [0, 0, 0]\n",
        "    target_img[np.where(target == 255.0)] = [255, 255, 255]\n",
        "\n",
        "    plt.imshow(np.uint8(img))\n",
        "    fig.canvas.draw()\n",
        "    time.sleep(1)\n",
        "\n",
        "    plt.imshow(np.uint8(target_img))\n",
        "    fig.canvas.draw()\n",
        "    time.sleep(1)\n",
        "    break\n",
        "'''\n",
        "for _ in range(1000):\n",
        "    img, target = next(iterator)\n",
        "    img = img[0]   # First element\n",
        "    img = img * 255  # denormalize\n",
        "    target = target[0]\n",
        "\n",
        "    target = np.array(target[0, ..., 0])\n",
        "    # Assign colors (just for visualization)\n",
        "    target_img = np.zeros([256, 256, 3])\n",
        "    \n",
        "    target_img[np.where(target == 0.0)] = [0, 0, 0]\n",
        "    target_img[np.where(target == 255.0)] = [255, 255, 255]\n",
        "    \n",
        "    \n",
        "    ax[0].imshow(np.uint8(img))\n",
        "    ax[1].imshow(np.uint8(target_img))\n",
        "    \n",
        "\n",
        "    fig.canvas.draw()\n",
        "    break\n",
        "'''"
      ],
      "execution_count": 0,
      "outputs": []
    },
    {
      "cell_type": "markdown",
      "metadata": {
        "id": "YqYOnZHCAKqh",
        "colab_type": "text"
      },
      "source": [
        "## ENCODER AND DECODER - BUILD A MODEL\n"
      ]
    },
    {
      "cell_type": "code",
      "metadata": {
        "id": "bOb29xVpTVkI",
        "colab_type": "code",
        "colab": {}
      },
      "source": [
        "def create_model(depth, start_f, num_classes, dynamic_input_shape):\n",
        "\n",
        "    model = tf.keras.Sequential()\n",
        "    \n",
        "    # Encoder\n",
        "    # -------\n",
        "    for i in range(depth):\n",
        "        \n",
        "        if i == 0:\n",
        "            if dynamic_input_shape:\n",
        "                input_shape = [None, None, 3]\n",
        "            else:\n",
        "                input_shape = [img_h, img_w, 3]\n",
        "        else:\n",
        "            input_shape=[None]\n",
        "        \n",
        "        model.add(tf.keras.layers.Conv2D(filters=start_f, \n",
        "                                         kernel_size=(3, 3),\n",
        "                                         strides=(1, 1),\n",
        "                                         padding='same',\n",
        "                                         input_shape=input_shape))\n",
        "        model.add(tf.keras.layers.ReLU())\n",
        "        model.add(tf.keras.layers.MaxPool2D(pool_size=(2, 2)))\n",
        "\n",
        "        start_f *= 2\n",
        "\n",
        "    # Decoder\n",
        "    # -------\n",
        "    for i in range(depth):\n",
        "        model.add(tf.keras.layers.UpSampling2D(2, interpolation='bilinear'))\n",
        "        model.add(tf.keras.layers.Conv2D(filters=start_f // 2,\n",
        "                                         kernel_size=(3, 3),\n",
        "                                         strides=(1, 1),\n",
        "                                         padding='same'))\n",
        "\n",
        "        model.add(tf.keras.layers.ReLU())\n",
        "\n",
        "        start_f = start_f // 2\n",
        "\n",
        "    # Prediction Layer\n",
        "    # ----------------\n",
        "    model.add(tf.keras.layers.Conv2D(filters=num_classes,\n",
        "                                     kernel_size=(1, 1),\n",
        "                                     strides=(1, 1),\n",
        "                                     padding='same',\n",
        "                                     activation='sigmoid'))\n",
        "    \n",
        "    return model\n",
        "\n",
        "model = create_model(depth=4, \n",
        "                     start_f=4, \n",
        "                     num_classes=1, \n",
        "                     dynamic_input_shape=False)\n",
        "\n",
        "# Visualize created model as a table\n",
        "model.summary()\n",
        "model.weights"
      ],
      "execution_count": 0,
      "outputs": []
    },
    {
      "cell_type": "markdown",
      "metadata": {
        "id": "TrmQRqTIAxtu",
        "colab_type": "text"
      },
      "source": [
        "## PREPARE THE MODEL FOR TRAINING\n"
      ]
    },
    {
      "cell_type": "code",
      "metadata": {
        "id": "4EgjrYuhTVnF",
        "colab_type": "code",
        "colab": {}
      },
      "source": [
        "# Optimization params\n",
        "# -------------------\n",
        "\n",
        "# Loss\n",
        "# Sparse Categorical Crossentropy to use integers (mask) instead of one-hot encoded labels\n",
        "loss = tf.keras.losses.BinaryCrossentropy(from_logits= True) # inspezionare questo codice\n",
        "# loss = L.lovasz_softmax(m.probas, labels_tf, classes=[1], ignore=IGNORE, per_image=True)\n",
        "# learning rate\n",
        "lr = 1e-3\n",
        "optimizer = tf.keras.optimizers.Adam(learning_rate=lr)\n",
        "# -------------------\n",
        "\n",
        "# Validation metrics\n",
        "# ------------------\n",
        "\n",
        "def my_IoU(y_true, y_pred):\n",
        "    # from pobability to predicted class {0, 1}\n",
        "    y_pred = tf.cast(y_pred > 0.5, tf.float32) # when using sigmoid. Use argmax for softmax\n",
        "\n",
        "    # A and B\n",
        "    intersection = tf.reduce_sum(y_true * y_pred)\n",
        "    # A or B\n",
        "    union = tf.reduce_sum(y_true) + tf.reduce_sum(y_pred) - intersection\n",
        "    # IoU\n",
        "    return intersection / union\n",
        "# ------------------\n",
        "\n",
        "# Compile Model\n",
        "model.compile(optimizer=optimizer, loss=loss, metrics=[my_IoU])"
      ],
      "execution_count": 0,
      "outputs": []
    },
    {
      "cell_type": "code",
      "metadata": {
        "id": "2hxOMiq-TVp4",
        "colab_type": "code",
        "colab": {}
      },
      "source": [
        "import os\n",
        "from datetime import datetime\n",
        "\n",
        "# from tensorflow.compat.v1 import ConfigProto\n",
        "# from tensorflow.compat.v1 import InteractiveSession\n",
        "\n",
        "# config = ConfigProto()\n",
        "# config.gpu_options.allow_growth = True\n",
        "# session = InteractiveSession(config=config)\n",
        "\n",
        "cwd = os.getcwd()\n",
        "\n",
        "exps_dir = os.path.join(cwd, 'segmentation_experiments')\n",
        "if not os.path.exists(exps_dir):\n",
        "    os.makedirs(exps_dir)\n",
        "\n",
        "now = datetime.now().strftime('%b%d_%H-%M-%S')\n",
        "\n",
        "model_name = 'CNN'\n",
        "\n",
        "exp_dir = os.path.join(exps_dir, model_name + '_' + str(now))\n",
        "if not os.path.exists(exp_dir):\n",
        "    os.makedirs(exp_dir)\n",
        "    \n",
        "callbacks = []\n",
        "\n",
        "# Model checkpoint\n",
        "# ----------------\n",
        "ckpt_dir = os.path.join(exp_dir, 'ckpts')\n",
        "if not os.path.exists(ckpt_dir):\n",
        "    os.makedirs(ckpt_dir)\n",
        "\n",
        "ckpt_callback = tf.keras.callbacks.ModelCheckpoint(filepath=os.path.join(ckpt_dir, 'cp_{epoch:02d}.ckpt'), \n",
        "                                                   save_weights_only=True)  # False to save the model directly\n",
        "callbacks.append(ckpt_callback)\n",
        "\n",
        "# Visualize Learning on Tensorboard\n",
        "# ---------------------------------\n",
        "tb_dir = os.path.join(exp_dir, 'tb_logs')\n",
        "if not os.path.exists(tb_dir):\n",
        "    os.makedirs(tb_dir)\n",
        "    \n",
        "# By default shows losses and metrics for both training and validation\n",
        "tb_callback = tf.keras.callbacks.TensorBoard(log_dir=tb_dir,\n",
        "                                             profile_batch=0,\n",
        "                                             histogram_freq=0)  # if 1 shows weights histograms\n",
        "callbacks.append(tb_callback)\n",
        "\n",
        "# Early Stopping\n",
        "# --------------\n",
        "early_stop = False\n",
        "if early_stop:\n",
        "    es_callback = tf.keras.callback.EarlyStopping(monitor='val_loss', patience=10)\n",
        "    callbacks.append(es_callback)\n",
        "\n",
        "\n",
        "model.fit(x=train_dataset,\n",
        "          epochs=100,  #### set repeat in training dataset\n",
        "          steps_per_epoch=len(train_img_gen),\n",
        "          validation_data=valid_dataset,\n",
        "          validation_steps=len(valid_img_gen), \n",
        "          callbacks=callbacks)"
      ],
      "execution_count": 0,
      "outputs": []
    },
    {
      "cell_type": "code",
      "metadata": {
        "id": "r67Er28fTVsT",
        "colab_type": "code",
        "colab": {}
      },
      "source": [
        "'''# Just for exercise try to restore a model after training it\n",
        "# !! Use this just when restoring model.. \n",
        "# ---------------------------------------\n",
        "restore_model = True\n",
        "if restore_model:\n",
        "    model = create_model(depth=4, \n",
        "                         start_f=4, \n",
        "                         num_classes=3, \n",
        "                         dynamic_input_shape=True)\n",
        "\n",
        "    model.compile(loss=tf.keras.losses.SparseCategoricalCrossentropy(from_logits=False), \n",
        "                  metrics=['accuracy'])  # Needed for loading weights\n",
        "\n",
        "    model.load_weights(os.path.join(\n",
        "        cwd, 'segmentation_experiments', 'EXP_FOLDER', 'ckpts', 'cp_60.ckpt'))  # use this if you want to restore saved model\n",
        "# ----------------------------------------\n",
        "'''\n",
        "\n",
        "dataset_dir = os.path.join(cwd, 'Segmentation_Dataset')\n",
        "#generator test set \n",
        "test_img_data_gen = ImageDataGenerator(rescale=1./255)\n",
        "test_mask_data_gen = ImageDataGenerator(rescale=1./255)\n",
        "\n",
        "\n",
        "#Test\n",
        "test_dir = os.path.join(dataset_dir, 'test')\n",
        "test_img_gen = test_img_data_gen.flow_from_directory(os.path.join(test_dir, 'images'),\n",
        "                                                     target_size=(img_h, img_w),\n",
        "                                                     batch_size=bs, \n",
        "                                                     class_mode=None, # Because we have no class subfolders in this case\n",
        "                                                     shuffle=False,\n",
        "                                                     interpolation='bilinear',\n",
        "                                                     seed=SEED)\n",
        "\n",
        "# CSV EXPORT OF PREDICTION \n",
        "# CHECK FOR PROPER MODEL TRAINING, UNDERFITTING NOW "
      ],
      "execution_count": 0,
      "outputs": []
    },
    {
      "cell_type": "code",
      "metadata": {
        "id": "q1JMrTJjSO8X",
        "colab_type": "code",
        "colab": {}
      },
      "source": [
        "import os\n",
        "from datetime import datetime\n",
        "\n",
        "def create_csv(results, results_dir='./output/'):\n",
        "    if not os.path.exists(results_dir):\n",
        "      os.makedirs(results_dir)\n",
        "\n",
        "    csv_fname = 'results_'\n",
        "    csv_fname += datetime.now().strftime('%b%d_%H-%M-%S') + '.csv'\n",
        "\n",
        "    with open(os.path.join(results_dir, csv_fname), 'w') as f:\n",
        "\n",
        "      f.write('ImageId,EncodedPixels,Width,Height\\n')\n",
        "\n",
        "      for key, value in results.items():\n",
        "          f.write(key + ',' + value + ',' + '256' + ',' + '256' + '\\n')"
      ],
      "execution_count": 0,
      "outputs": []
    },
    {
      "cell_type": "code",
      "metadata": {
        "id": "ukRGfjCXLXRb",
        "colab_type": "code",
        "colab": {}
      },
      "source": [
        "import os\n",
        "from PIL import Image\n",
        "import numpy as np\n",
        "\n",
        "def rle_encode(img):\n",
        "      # Flatten column-wise\n",
        "      pixels = img.T.flatten()\n",
        "      pixels = np.concatenate([[0], pixels, [0]])\n",
        "      runs = np.where(pixels[1:] != pixels[:-1])[0] + 1\n",
        "      runs[1::2] -= runs[::2]\n",
        "      return ' '.join(str(x) for x in runs)\n",
        "\n",
        "image_filenames = next(os.walk('./Segmentation_Dataset/test/images/img/'))[2]                          \n",
        "results = {}\n",
        "\n",
        "for image_name in image_filenames:\n",
        "    img = Image.open('./Segmentation_Dataset/test/images/img/'+image_name).convert('RGB')\n",
        "    img_array = np.array(img)\n",
        "    img_array = img_array*1./255 #normalization\n",
        "    img_array = np.expand_dims(img_array,0) #needed for fixed dim of input in the model\n",
        "    output = model.predict(img_array)\n",
        "    output = tf.cast(output > 0.5, tf.int32) \n",
        "    output = output.numpy()\n",
        "    output.T.flatten()\n",
        "    break\n",
        "    results[image_name[:-4]] = rle_encode(output)\n",
        "    \n",
        "create_csv(results)\n"
      ],
      "execution_count": 0,
      "outputs": []
    }
  ]
}